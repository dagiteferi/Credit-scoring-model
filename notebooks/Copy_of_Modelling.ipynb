{
  "cells": [
    {
      "cell_type": "code",
      "execution_count": 1,
      "metadata": {
        "_cell_guid": "b1076dfc-b9ad-4769-8c92-a6c4dae69d19",
        "_uuid": "8f2839f25d086af736a60e9eeb907d3b93b6e0e5",
        "execution": {
          "iopub.execute_input": "2025-01-26T17:11:36.603634Z",
          "iopub.status.busy": "2025-01-26T17:11:36.603299Z",
          "iopub.status.idle": "2025-01-26T17:11:36.681476Z",
          "shell.execute_reply": "2025-01-26T17:11:36.68006Z",
          "shell.execute_reply.started": "2025-01-26T17:11:36.603602Z"
        },
        "id": "OTLxlv3jnsbQ",
        "trusted": true
      },
      "outputs": [],
      "source": [
        "import sys , os\n",
        "import pandas as pd\n",
        "sys.path.append(os.path.abspath('../scripts'))"
      ]
    },
    {
      "cell_type": "code",
      "execution_count": 12,
      "metadata": {},
      "outputs": [],
      "source": [
        "import Modelling as mo"
      ]
    },
    {
      "cell_type": "code",
      "execution_count": 19,
      "metadata": {
        "colab": {
          "base_uri": "https://localhost:8080/"
        },
        "id": "rnwpLIm4-vat",
        "outputId": "500df8c9-b0b0-4fc9-9f0f-1ce03b0b8542"
      },
      "outputs": [
        {
          "data": {
            "text/html": [
              "<div>\n",
              "<style scoped>\n",
              "    .dataframe tbody tr th:only-of-type {\n",
              "        vertical-align: middle;\n",
              "    }\n",
              "\n",
              "    .dataframe tbody tr th {\n",
              "        vertical-align: top;\n",
              "    }\n",
              "\n",
              "    .dataframe thead th {\n",
              "        text-align: right;\n",
              "    }\n",
              "</style>\n",
              "<table border=\"1\" class=\"dataframe\">\n",
              "  <thead>\n",
              "    <tr style=\"text-align: right;\">\n",
              "      <th></th>\n",
              "      <th>Unnamed: 0</th>\n",
              "      <th>TransactionId</th>\n",
              "      <th>BatchId</th>\n",
              "      <th>AccountId</th>\n",
              "      <th>SubscriptionId</th>\n",
              "      <th>CustomerId</th>\n",
              "      <th>CurrencyCode</th>\n",
              "      <th>CountryCode</th>\n",
              "      <th>ProviderId</th>\n",
              "      <th>ProductId</th>\n",
              "      <th>...</th>\n",
              "      <th>Transaction_Day</th>\n",
              "      <th>Transaction_Month</th>\n",
              "      <th>Transaction_Year</th>\n",
              "      <th>CurrencyCode_WOE</th>\n",
              "      <th>ProviderId_WOE</th>\n",
              "      <th>ProductId_WOE</th>\n",
              "      <th>ProductCategory_WOE</th>\n",
              "      <th>Recency</th>\n",
              "      <th>RFMS_score</th>\n",
              "      <th>Label</th>\n",
              "    </tr>\n",
              "  </thead>\n",
              "  <tbody>\n",
              "    <tr>\n",
              "      <th>0</th>\n",
              "      <td>0</td>\n",
              "      <td>TransactionId_76871</td>\n",
              "      <td>BatchId_36123</td>\n",
              "      <td>AccountId_3957</td>\n",
              "      <td>SubscriptionId_887</td>\n",
              "      <td>CustomerId_4406</td>\n",
              "      <td>0</td>\n",
              "      <td>256</td>\n",
              "      <td>5</td>\n",
              "      <td>1</td>\n",
              "      <td>...</td>\n",
              "      <td>15</td>\n",
              "      <td>11</td>\n",
              "      <td>2018</td>\n",
              "      <td>0.0</td>\n",
              "      <td>3.137005</td>\n",
              "      <td>1.645067</td>\n",
              "      <td>1.620379</td>\n",
              "      <td>2264</td>\n",
              "      <td>-0.042337</td>\n",
              "      <td>1</td>\n",
              "    </tr>\n",
              "    <tr>\n",
              "      <th>1</th>\n",
              "      <td>1</td>\n",
              "      <td>TransactionId_73770</td>\n",
              "      <td>BatchId_15642</td>\n",
              "      <td>AccountId_4841</td>\n",
              "      <td>SubscriptionId_3829</td>\n",
              "      <td>CustomerId_4406</td>\n",
              "      <td>0</td>\n",
              "      <td>256</td>\n",
              "      <td>3</td>\n",
              "      <td>19</td>\n",
              "      <td>...</td>\n",
              "      <td>15</td>\n",
              "      <td>11</td>\n",
              "      <td>2018</td>\n",
              "      <td>0.0</td>\n",
              "      <td>2.736867</td>\n",
              "      <td>4.189243</td>\n",
              "      <td>-0.565446</td>\n",
              "      <td>2264</td>\n",
              "      <td>-0.042337</td>\n",
              "      <td>1</td>\n",
              "    </tr>\n",
              "    <tr>\n",
              "      <th>2</th>\n",
              "      <td>2</td>\n",
              "      <td>TransactionId_26203</td>\n",
              "      <td>BatchId_53941</td>\n",
              "      <td>AccountId_4229</td>\n",
              "      <td>SubscriptionId_222</td>\n",
              "      <td>CustomerId_4683</td>\n",
              "      <td>0</td>\n",
              "      <td>256</td>\n",
              "      <td>5</td>\n",
              "      <td>0</td>\n",
              "      <td>...</td>\n",
              "      <td>15</td>\n",
              "      <td>11</td>\n",
              "      <td>2018</td>\n",
              "      <td>0.0</td>\n",
              "      <td>3.137005</td>\n",
              "      <td>inf</td>\n",
              "      <td>1.620379</td>\n",
              "      <td>2264</td>\n",
              "      <td>-0.083785</td>\n",
              "      <td>0</td>\n",
              "    </tr>\n",
              "    <tr>\n",
              "      <th>3</th>\n",
              "      <td>3</td>\n",
              "      <td>TransactionId_380</td>\n",
              "      <td>BatchId_102363</td>\n",
              "      <td>AccountId_648</td>\n",
              "      <td>SubscriptionId_2185</td>\n",
              "      <td>CustomerId_988</td>\n",
              "      <td>0</td>\n",
              "      <td>256</td>\n",
              "      <td>0</td>\n",
              "      <td>11</td>\n",
              "      <td>...</td>\n",
              "      <td>15</td>\n",
              "      <td>11</td>\n",
              "      <td>2018</td>\n",
              "      <td>0.0</td>\n",
              "      <td>-1.618899</td>\n",
              "      <td>-0.271621</td>\n",
              "      <td>-1.134962</td>\n",
              "      <td>2264</td>\n",
              "      <td>-0.068359</td>\n",
              "      <td>0</td>\n",
              "    </tr>\n",
              "    <tr>\n",
              "      <th>4</th>\n",
              "      <td>4</td>\n",
              "      <td>TransactionId_28195</td>\n",
              "      <td>BatchId_38780</td>\n",
              "      <td>AccountId_4841</td>\n",
              "      <td>SubscriptionId_3829</td>\n",
              "      <td>CustomerId_988</td>\n",
              "      <td>0</td>\n",
              "      <td>256</td>\n",
              "      <td>3</td>\n",
              "      <td>19</td>\n",
              "      <td>...</td>\n",
              "      <td>15</td>\n",
              "      <td>11</td>\n",
              "      <td>2018</td>\n",
              "      <td>0.0</td>\n",
              "      <td>2.736867</td>\n",
              "      <td>4.189243</td>\n",
              "      <td>-0.565446</td>\n",
              "      <td>2264</td>\n",
              "      <td>-0.068359</td>\n",
              "      <td>0</td>\n",
              "    </tr>\n",
              "  </tbody>\n",
              "</table>\n",
              "<p>5 rows × 32 columns</p>\n",
              "</div>"
            ],
            "text/plain": [
              "   Unnamed: 0        TransactionId         BatchId       AccountId  \\\n",
              "0           0  TransactionId_76871   BatchId_36123  AccountId_3957   \n",
              "1           1  TransactionId_73770   BatchId_15642  AccountId_4841   \n",
              "2           2  TransactionId_26203   BatchId_53941  AccountId_4229   \n",
              "3           3    TransactionId_380  BatchId_102363   AccountId_648   \n",
              "4           4  TransactionId_28195   BatchId_38780  AccountId_4841   \n",
              "\n",
              "        SubscriptionId       CustomerId  CurrencyCode  CountryCode  \\\n",
              "0   SubscriptionId_887  CustomerId_4406             0          256   \n",
              "1  SubscriptionId_3829  CustomerId_4406             0          256   \n",
              "2   SubscriptionId_222  CustomerId_4683             0          256   \n",
              "3  SubscriptionId_2185   CustomerId_988             0          256   \n",
              "4  SubscriptionId_3829   CustomerId_988             0          256   \n",
              "\n",
              "   ProviderId  ProductId  ...  Transaction_Day Transaction_Month  \\\n",
              "0           5          1  ...               15                11   \n",
              "1           3         19  ...               15                11   \n",
              "2           5          0  ...               15                11   \n",
              "3           0         11  ...               15                11   \n",
              "4           3         19  ...               15                11   \n",
              "\n",
              "   Transaction_Year  CurrencyCode_WOE ProviderId_WOE  ProductId_WOE  \\\n",
              "0              2018               0.0       3.137005       1.645067   \n",
              "1              2018               0.0       2.736867       4.189243   \n",
              "2              2018               0.0       3.137005            inf   \n",
              "3              2018               0.0      -1.618899      -0.271621   \n",
              "4              2018               0.0       2.736867       4.189243   \n",
              "\n",
              "   ProductCategory_WOE  Recency  RFMS_score  Label  \n",
              "0             1.620379     2264   -0.042337      1  \n",
              "1            -0.565446     2264   -0.042337      1  \n",
              "2             1.620379     2264   -0.083785      0  \n",
              "3            -1.134962     2264   -0.068359      0  \n",
              "4            -0.565446     2264   -0.068359      0  \n",
              "\n",
              "[5 rows x 32 columns]"
            ]
          },
          "execution_count": 19,
          "metadata": {},
          "output_type": "execute_result"
        }
      ],
      "source": [
        "\n",
        "\n",
        "# Initialize the Modeling class\n",
        "modeling = mo.Modeling()\n",
        "\n",
        "# Load the data\n",
        "path = '../data/proceced_data.csv'  \n",
        "data = modeling.load_data(path)\n",
        "\n",
        "data.head()\n",
        "\n"
      ]
    },
    {
      "cell_type": "code",
      "execution_count": 26,
      "metadata": {
        "colab": {
          "base_uri": "https://localhost:8080/"
        },
        "id": "Q3mjH9OH9_tS",
        "outputId": "60843768-fb56-4b41-9b2b-5346daa31492"
      },
      "outputs": [
        {
          "name": "stdout",
          "output_type": "stream",
          "text": [
            "The autoreload extension is already loaded. To reload it, use:\n",
            "  %reload_ext autoreload\n"
          ]
        },
        {
          "data": {
            "text/plain": [
              "<module 'Modelling' from 'c:\\\\Users\\\\HP\\\\Documents\\\\Dagii\\\\Credit-scoring-model\\\\scripts\\\\Modelling.py'>"
            ]
          },
          "execution_count": 26,
          "metadata": {},
          "output_type": "execute_result"
        }
      ],
      "source": [
        "%load_ext autoreload\n",
        "%autoreload 2\n",
        "\n",
        "import importlib\n",
        "import Modelling\n",
        "\n",
        "# Reload the updated module to ensure any changes are loaded\n",
        "importlib.reload(Modelling)\n"
      ]
    },
    {
      "cell_type": "markdown",
      "metadata": {
        "id": "Pl-VM3uCvqF8"
      },
      "source": [
        "first load the data"
      ]
    },
    {
      "cell_type": "code",
      "execution_count": 21,
      "metadata": {
        "colab": {
          "base_uri": "https://localhost:8080/"
        },
        "id": "YAvI79xJC6kh",
        "outputId": "550929a1-3fea-4e9c-f00a-0016fa0a0d07"
      },
      "outputs": [],
      "source": [
        "# Preprocess the data\n",
        "data = modeling.preprocess_data(data)\n",
        " # Inspect the transformed data\n"
      ]
    },
    {
      "cell_type": "code",
      "execution_count": null,
      "metadata": {
        "colab": {
          "base_uri": "https://localhost:8080/"
        },
        "id": "hzKrT544MJfx",
        "outputId": "9ef32de5-2e4d-4f05-ddc2-cbd62bac55fe"
      },
      "outputs": [
        {
          "name": "stdout",
          "output_type": "stream",
          "text": [
            "Infinite values after cleaning: 0\n",
            "Very large values after cleaning: 0\n"
          ]
        }
      ],
      "source": [
        "# # Replace infinite values with NaN\n",
        "# data_preprocessed.replace([np.inf, -np.inf], np.nan, inplace=True)\n",
        "\n",
        "# # Replace NaN values with the mean of the respective column\n",
        "# data_preprocessed.fillna(data_preprocessed.mean(), inplace=True)\n",
        "\n",
        "# # Verify there are no more infinite or very large values\n",
        "# infinite_values_post = data_preprocessed.isin([np.inf, -np.inf]).sum()\n",
        "# large_values_post = (data_preprocessed.abs() > np.finfo(np.float64).max).sum()\n",
        "\n",
        "# print(f\"Infinite values after cleaning: {infinite_values_post.sum()}\")\n",
        "# print(f\"Very large values after cleaning: {large_values_post.sum()}\")\n"
      ]
    },
    {
      "cell_type": "markdown",
      "metadata": {
        "id": "RkanTREQ0Acp"
      },
      "source": [
        "###Define Features and Target"
      ]
    },
    {
      "cell_type": "markdown",
      "metadata": {
        "id": "PpoZGDRL0Hku"
      },
      "source": [
        "###Initialize the Modeling Class and Split Data"
      ]
    },
    {
      "cell_type": "code",
      "execution_count": 22,
      "metadata": {
        "id": "aYoYB5EcGh_J"
      },
      "outputs": [],
      "source": [
        "X_train, X_test, y_train, y_test = modeling.split_the_data(data)"
      ]
    },
    {
      "cell_type": "code",
      "execution_count": 23,
      "metadata": {
        "colab": {
          "base_uri": "https://localhost:8080/"
        },
        "id": "ebcPBDMGzVoo",
        "outputId": "dc949424-802d-4278-a2b6-f4232a6a6e3d"
      },
      "outputs": [
        {
          "name": "stdout",
          "output_type": "stream",
          "text": [
            "Training set size: 76529 samples\n",
            "Testing set size: 19133 samples\n"
          ]
        }
      ],
      "source": [
        "print(f\"Training set size: {X_train.shape[0]} samples\")\n",
        "print(f\"Testing set size: {X_test.shape[0]} samples\")"
      ]
    },
    {
      "cell_type": "markdown",
      "metadata": {
        "id": "iEbmkGzuMrVS"
      },
      "source": [
        "## Why Choose Logistic Regression and Random Forest\n",
        "\n",
        "### Logistic Regression\n",
        "- **Simplicity and Interpretability**: Logistic Regression is straightforward and easy to interpret, making it an excellent choice for understanding the relationship between features and the target variable.\n",
        "- **Efficiency**: It is computationally efficient, which is beneficial for large datasets.\n",
        "- **Binary Classification**: Well-suited for binary classification tasks, providing probabilistic outputs that can be easily understood and interpreted.\n",
        "\n",
        "### Random Forest\n",
        "- **Robustness**: Combines multiple decision trees to reduce overfitting and improve generalization to unseen data.\n",
        "- **Feature Importance**: Capable of evaluating the importance of each feature, providing insights into which features are most influential in making predictions.\n",
        "- **Versatility**: Handles both classification and regression tasks effectively, making it a versatile choice for various problems.\n",
        "\n",
        "### Combined Benefits\n",
        "By using both Logistic Regression and Random Forest, you balance simplicity and interpretability with robustness and predictive performance. This combination allows you to compare and contrast different modeling techniques to find the best solution for your data.\n",
        "\n",
        "## Summary\n",
        "- **Logistic Regression**: Simple, interpretable, efficient for binary classification.\n",
        "- **Random Forest**: Robust, reduces overfitting, evaluates feature importance.\n",
        "\n",
        "This balanced approach provides a comprehensive understanding of your data and helps in making well-informed decisions based on the strengths of both models.\n"
      ]
    },
    {
      "cell_type": "code",
      "execution_count": null,
      "metadata": {
        "colab": {
          "base_uri": "https://localhost:8080/"
        },
        "id": "AVVUK8mbTSBn",
        "outputId": "eb613242-b23c-47e8-8faf-93296a4be745"
      },
      "outputs": [
        {
          "name": "stdout",
          "output_type": "stream",
          "text": [
            "Infinite values in test data: 2545\n",
            "Very large values in test data: 2545\n",
            "Infinite values after cleaning in test data: 0\n",
            "Very large values after cleaning in test data: 0\n"
          ]
        }
      ],
      "source": [
        "# import numpy as np\n",
        "\n",
        "# # Identify infinite or very large values in the test dataset\n",
        "# infinite_values_test = X_test.isin([np.inf, -np.inf]).sum()\n",
        "# large_values_test = (X_test.abs() > np.finfo(np.float64).max).sum()\n",
        "\n",
        "# print(f\"Infinite values in test data: {infinite_values_test.sum()}\")\n",
        "# print(f\"Very large values in test data: {large_values_test.sum()}\")\n",
        "\n",
        "# # Replace infinite values with NaN\n",
        "# X_test.replace([np.inf, -np.inf], np.nan, inplace=True)\n",
        "\n",
        "# # Replace NaN values with the mean of the respective column\n",
        "# X_test.fillna(X_test.mean(), inplace=True)\n",
        "\n",
        "# # Verify there are no more infinite or very large values in the test data\n",
        "# infinite_values_test_post = X_test.isin([np.inf, -np.inf]).sum()\n",
        "# large_values_test_post = (X_test.abs() > np.finfo(np.float64).max).sum()\n",
        "\n",
        "# print(f\"Infinite values after cleaning in test data: {infinite_values_test_post.sum()}\")\n",
        "# print(f\"Very large values after cleaning in test data: {large_values_test_post.sum()}\")\n"
      ]
    },
    {
      "cell_type": "code",
      "execution_count": null,
      "metadata": {
        "colab": {
          "base_uri": "https://localhost:8080/"
        },
        "id": "72gY8wXnTX3z",
        "outputId": "13d304cb-ef4f-4b4b-a3e8-adb8513daf1c"
      },
      "outputs": [
        {
          "name": "stdout",
          "output_type": "stream",
          "text": [
            "Infinite values after cleaning: 0\n",
            "Very large values after cleaning: 0\n"
          ]
        }
      ],
      "source": [
        "# # Replace infinite values with NaN\n",
        "# data_preprocessed.replace([np.inf, -np.inf], np.nan, inplace=True)\n",
        "\n",
        "# # Replace NaN values with the mean of the respective column\n",
        "# data_preprocessed.fillna(data_preprocessed.mean(), inplace=True)\n",
        "\n",
        "# # Verify there are no more infinite or very large values\n",
        "# infinite_values_post = data_preprocessed.isin([np.inf, -np.inf]).sum()\n",
        "# large_values_post = (data_preprocessed.abs() > np.finfo(np.float64).max).sum()\n",
        "\n",
        "# print(f\"Infinite values after cleaning: {infinite_values_post.sum()}\")\n",
        "# print(f\"Very large values after cleaning: {large_values_post.sum()}\")\n"
      ]
    },
    {
      "cell_type": "code",
      "execution_count": 27,
      "metadata": {
        "colab": {
          "base_uri": "https://localhost:8080/",
          "height": 200
        },
        "id": "IIAe7xjCMkec",
        "outputId": "81e4f47b-6b2c-404e-cc01-c4414b4d8387"
      },
      "outputs": [
        {
          "ename": "TypeError",
          "evalue": "Modeling.train_the_models() takes 3 positional arguments but 4 were given",
          "output_type": "error",
          "traceback": [
            "\u001b[1;31m---------------------------------------------------------------------------\u001b[0m",
            "\u001b[1;31mTypeError\u001b[0m                                 Traceback (most recent call last)",
            "Cell \u001b[1;32mIn[27], line 2\u001b[0m\n\u001b[0;32m      1\u001b[0m \u001b[38;5;66;03m# Train the models\u001b[39;00m\n\u001b[1;32m----> 2\u001b[0m logistic_model, random_forest_model \u001b[38;5;241m=\u001b[39m \u001b[43mmodeling\u001b[49m\u001b[38;5;241;43m.\u001b[39;49m\u001b[43mtrain_the_models\u001b[49m\u001b[43m(\u001b[49m\u001b[43mX_train\u001b[49m\u001b[43m,\u001b[49m\u001b[43m \u001b[49m\u001b[43my_train\u001b[49m\u001b[43m,\u001b[49m\u001b[43mX_test\u001b[49m\u001b[43m)\u001b[49m\n",
            "\u001b[1;31mTypeError\u001b[0m: Modeling.train_the_models() takes 3 positional arguments but 4 were given"
          ]
        }
      ],
      "source": [
        "# Train the models\n",
        "logistic_model, random_forest_model = modeling.train_the_models(X_train, y_train,X_test)\n"
      ]
    },
    {
      "cell_type": "code",
      "execution_count": null,
      "metadata": {
        "id": "Mlz4D0DnM6iH"
      },
      "outputs": [],
      "source": [
        "logistic_model"
      ]
    },
    {
      "cell_type": "code",
      "execution_count": null,
      "metadata": {
        "colab": {
          "base_uri": "https://localhost:8080/",
          "height": 80
        },
        "id": "SkyXWtNcM_T-",
        "outputId": "1615e373-eae3-40c9-d550-e083eb80b79c"
      },
      "outputs": [
        {
          "data": {
            "text/html": [
              "<style>#sk-container-id-4 {\n",
              "  /* Definition of color scheme common for light and dark mode */\n",
              "  --sklearn-color-text: #000;\n",
              "  --sklearn-color-text-muted: #666;\n",
              "  --sklearn-color-line: gray;\n",
              "  /* Definition of color scheme for unfitted estimators */\n",
              "  --sklearn-color-unfitted-level-0: #fff5e6;\n",
              "  --sklearn-color-unfitted-level-1: #f6e4d2;\n",
              "  --sklearn-color-unfitted-level-2: #ffe0b3;\n",
              "  --sklearn-color-unfitted-level-3: chocolate;\n",
              "  /* Definition of color scheme for fitted estimators */\n",
              "  --sklearn-color-fitted-level-0: #f0f8ff;\n",
              "  --sklearn-color-fitted-level-1: #d4ebff;\n",
              "  --sklearn-color-fitted-level-2: #b3dbfd;\n",
              "  --sklearn-color-fitted-level-3: cornflowerblue;\n",
              "\n",
              "  /* Specific color for light theme */\n",
              "  --sklearn-color-text-on-default-background: var(--sg-text-color, var(--theme-code-foreground, var(--jp-content-font-color1, black)));\n",
              "  --sklearn-color-background: var(--sg-background-color, var(--theme-background, var(--jp-layout-color0, white)));\n",
              "  --sklearn-color-border-box: var(--sg-text-color, var(--theme-code-foreground, var(--jp-content-font-color1, black)));\n",
              "  --sklearn-color-icon: #696969;\n",
              "\n",
              "  @media (prefers-color-scheme: dark) {\n",
              "    /* Redefinition of color scheme for dark theme */\n",
              "    --sklearn-color-text-on-default-background: var(--sg-text-color, var(--theme-code-foreground, var(--jp-content-font-color1, white)));\n",
              "    --sklearn-color-background: var(--sg-background-color, var(--theme-background, var(--jp-layout-color0, #111)));\n",
              "    --sklearn-color-border-box: var(--sg-text-color, var(--theme-code-foreground, var(--jp-content-font-color1, white)));\n",
              "    --sklearn-color-icon: #878787;\n",
              "  }\n",
              "}\n",
              "\n",
              "#sk-container-id-4 {\n",
              "  color: var(--sklearn-color-text);\n",
              "}\n",
              "\n",
              "#sk-container-id-4 pre {\n",
              "  padding: 0;\n",
              "}\n",
              "\n",
              "#sk-container-id-4 input.sk-hidden--visually {\n",
              "  border: 0;\n",
              "  clip: rect(1px 1px 1px 1px);\n",
              "  clip: rect(1px, 1px, 1px, 1px);\n",
              "  height: 1px;\n",
              "  margin: -1px;\n",
              "  overflow: hidden;\n",
              "  padding: 0;\n",
              "  position: absolute;\n",
              "  width: 1px;\n",
              "}\n",
              "\n",
              "#sk-container-id-4 div.sk-dashed-wrapped {\n",
              "  border: 1px dashed var(--sklearn-color-line);\n",
              "  margin: 0 0.4em 0.5em 0.4em;\n",
              "  box-sizing: border-box;\n",
              "  padding-bottom: 0.4em;\n",
              "  background-color: var(--sklearn-color-background);\n",
              "}\n",
              "\n",
              "#sk-container-id-4 div.sk-container {\n",
              "  /* jupyter's `normalize.less` sets `[hidden] { display: none; }`\n",
              "     but bootstrap.min.css set `[hidden] { display: none !important; }`\n",
              "     so we also need the `!important` here to be able to override the\n",
              "     default hidden behavior on the sphinx rendered scikit-learn.org.\n",
              "     See: https://github.com/scikit-learn/scikit-learn/issues/21755 */\n",
              "  display: inline-block !important;\n",
              "  position: relative;\n",
              "}\n",
              "\n",
              "#sk-container-id-4 div.sk-text-repr-fallback {\n",
              "  display: none;\n",
              "}\n",
              "\n",
              "div.sk-parallel-item,\n",
              "div.sk-serial,\n",
              "div.sk-item {\n",
              "  /* draw centered vertical line to link estimators */\n",
              "  background-image: linear-gradient(var(--sklearn-color-text-on-default-background), var(--sklearn-color-text-on-default-background));\n",
              "  background-size: 2px 100%;\n",
              "  background-repeat: no-repeat;\n",
              "  background-position: center center;\n",
              "}\n",
              "\n",
              "/* Parallel-specific style estimator block */\n",
              "\n",
              "#sk-container-id-4 div.sk-parallel-item::after {\n",
              "  content: \"\";\n",
              "  width: 100%;\n",
              "  border-bottom: 2px solid var(--sklearn-color-text-on-default-background);\n",
              "  flex-grow: 1;\n",
              "}\n",
              "\n",
              "#sk-container-id-4 div.sk-parallel {\n",
              "  display: flex;\n",
              "  align-items: stretch;\n",
              "  justify-content: center;\n",
              "  background-color: var(--sklearn-color-background);\n",
              "  position: relative;\n",
              "}\n",
              "\n",
              "#sk-container-id-4 div.sk-parallel-item {\n",
              "  display: flex;\n",
              "  flex-direction: column;\n",
              "}\n",
              "\n",
              "#sk-container-id-4 div.sk-parallel-item:first-child::after {\n",
              "  align-self: flex-end;\n",
              "  width: 50%;\n",
              "}\n",
              "\n",
              "#sk-container-id-4 div.sk-parallel-item:last-child::after {\n",
              "  align-self: flex-start;\n",
              "  width: 50%;\n",
              "}\n",
              "\n",
              "#sk-container-id-4 div.sk-parallel-item:only-child::after {\n",
              "  width: 0;\n",
              "}\n",
              "\n",
              "/* Serial-specific style estimator block */\n",
              "\n",
              "#sk-container-id-4 div.sk-serial {\n",
              "  display: flex;\n",
              "  flex-direction: column;\n",
              "  align-items: center;\n",
              "  background-color: var(--sklearn-color-background);\n",
              "  padding-right: 1em;\n",
              "  padding-left: 1em;\n",
              "}\n",
              "\n",
              "\n",
              "/* Toggleable style: style used for estimator/Pipeline/ColumnTransformer box that is\n",
              "clickable and can be expanded/collapsed.\n",
              "- Pipeline and ColumnTransformer use this feature and define the default style\n",
              "- Estimators will overwrite some part of the style using the `sk-estimator` class\n",
              "*/\n",
              "\n",
              "/* Pipeline and ColumnTransformer style (default) */\n",
              "\n",
              "#sk-container-id-4 div.sk-toggleable {\n",
              "  /* Default theme specific background. It is overwritten whether we have a\n",
              "  specific estimator or a Pipeline/ColumnTransformer */\n",
              "  background-color: var(--sklearn-color-background);\n",
              "}\n",
              "\n",
              "/* Toggleable label */\n",
              "#sk-container-id-4 label.sk-toggleable__label {\n",
              "  cursor: pointer;\n",
              "  display: flex;\n",
              "  width: 100%;\n",
              "  margin-bottom: 0;\n",
              "  padding: 0.5em;\n",
              "  box-sizing: border-box;\n",
              "  text-align: center;\n",
              "  align-items: start;\n",
              "  justify-content: space-between;\n",
              "  gap: 0.5em;\n",
              "}\n",
              "\n",
              "#sk-container-id-4 label.sk-toggleable__label .caption {\n",
              "  font-size: 0.6rem;\n",
              "  font-weight: lighter;\n",
              "  color: var(--sklearn-color-text-muted);\n",
              "}\n",
              "\n",
              "#sk-container-id-4 label.sk-toggleable__label-arrow:before {\n",
              "  /* Arrow on the left of the label */\n",
              "  content: \"▸\";\n",
              "  float: left;\n",
              "  margin-right: 0.25em;\n",
              "  color: var(--sklearn-color-icon);\n",
              "}\n",
              "\n",
              "#sk-container-id-4 label.sk-toggleable__label-arrow:hover:before {\n",
              "  color: var(--sklearn-color-text);\n",
              "}\n",
              "\n",
              "/* Toggleable content - dropdown */\n",
              "\n",
              "#sk-container-id-4 div.sk-toggleable__content {\n",
              "  max-height: 0;\n",
              "  max-width: 0;\n",
              "  overflow: hidden;\n",
              "  text-align: left;\n",
              "  /* unfitted */\n",
              "  background-color: var(--sklearn-color-unfitted-level-0);\n",
              "}\n",
              "\n",
              "#sk-container-id-4 div.sk-toggleable__content.fitted {\n",
              "  /* fitted */\n",
              "  background-color: var(--sklearn-color-fitted-level-0);\n",
              "}\n",
              "\n",
              "#sk-container-id-4 div.sk-toggleable__content pre {\n",
              "  margin: 0.2em;\n",
              "  border-radius: 0.25em;\n",
              "  color: var(--sklearn-color-text);\n",
              "  /* unfitted */\n",
              "  background-color: var(--sklearn-color-unfitted-level-0);\n",
              "}\n",
              "\n",
              "#sk-container-id-4 div.sk-toggleable__content.fitted pre {\n",
              "  /* unfitted */\n",
              "  background-color: var(--sklearn-color-fitted-level-0);\n",
              "}\n",
              "\n",
              "#sk-container-id-4 input.sk-toggleable__control:checked~div.sk-toggleable__content {\n",
              "  /* Expand drop-down */\n",
              "  max-height: 200px;\n",
              "  max-width: 100%;\n",
              "  overflow: auto;\n",
              "}\n",
              "\n",
              "#sk-container-id-4 input.sk-toggleable__control:checked~label.sk-toggleable__label-arrow:before {\n",
              "  content: \"▾\";\n",
              "}\n",
              "\n",
              "/* Pipeline/ColumnTransformer-specific style */\n",
              "\n",
              "#sk-container-id-4 div.sk-label input.sk-toggleable__control:checked~label.sk-toggleable__label {\n",
              "  color: var(--sklearn-color-text);\n",
              "  background-color: var(--sklearn-color-unfitted-level-2);\n",
              "}\n",
              "\n",
              "#sk-container-id-4 div.sk-label.fitted input.sk-toggleable__control:checked~label.sk-toggleable__label {\n",
              "  background-color: var(--sklearn-color-fitted-level-2);\n",
              "}\n",
              "\n",
              "/* Estimator-specific style */\n",
              "\n",
              "/* Colorize estimator box */\n",
              "#sk-container-id-4 div.sk-estimator input.sk-toggleable__control:checked~label.sk-toggleable__label {\n",
              "  /* unfitted */\n",
              "  background-color: var(--sklearn-color-unfitted-level-2);\n",
              "}\n",
              "\n",
              "#sk-container-id-4 div.sk-estimator.fitted input.sk-toggleable__control:checked~label.sk-toggleable__label {\n",
              "  /* fitted */\n",
              "  background-color: var(--sklearn-color-fitted-level-2);\n",
              "}\n",
              "\n",
              "#sk-container-id-4 div.sk-label label.sk-toggleable__label,\n",
              "#sk-container-id-4 div.sk-label label {\n",
              "  /* The background is the default theme color */\n",
              "  color: var(--sklearn-color-text-on-default-background);\n",
              "}\n",
              "\n",
              "/* On hover, darken the color of the background */\n",
              "#sk-container-id-4 div.sk-label:hover label.sk-toggleable__label {\n",
              "  color: var(--sklearn-color-text);\n",
              "  background-color: var(--sklearn-color-unfitted-level-2);\n",
              "}\n",
              "\n",
              "/* Label box, darken color on hover, fitted */\n",
              "#sk-container-id-4 div.sk-label.fitted:hover label.sk-toggleable__label.fitted {\n",
              "  color: var(--sklearn-color-text);\n",
              "  background-color: var(--sklearn-color-fitted-level-2);\n",
              "}\n",
              "\n",
              "/* Estimator label */\n",
              "\n",
              "#sk-container-id-4 div.sk-label label {\n",
              "  font-family: monospace;\n",
              "  font-weight: bold;\n",
              "  display: inline-block;\n",
              "  line-height: 1.2em;\n",
              "}\n",
              "\n",
              "#sk-container-id-4 div.sk-label-container {\n",
              "  text-align: center;\n",
              "}\n",
              "\n",
              "/* Estimator-specific */\n",
              "#sk-container-id-4 div.sk-estimator {\n",
              "  font-family: monospace;\n",
              "  border: 1px dotted var(--sklearn-color-border-box);\n",
              "  border-radius: 0.25em;\n",
              "  box-sizing: border-box;\n",
              "  margin-bottom: 0.5em;\n",
              "  /* unfitted */\n",
              "  background-color: var(--sklearn-color-unfitted-level-0);\n",
              "}\n",
              "\n",
              "#sk-container-id-4 div.sk-estimator.fitted {\n",
              "  /* fitted */\n",
              "  background-color: var(--sklearn-color-fitted-level-0);\n",
              "}\n",
              "\n",
              "/* on hover */\n",
              "#sk-container-id-4 div.sk-estimator:hover {\n",
              "  /* unfitted */\n",
              "  background-color: var(--sklearn-color-unfitted-level-2);\n",
              "}\n",
              "\n",
              "#sk-container-id-4 div.sk-estimator.fitted:hover {\n",
              "  /* fitted */\n",
              "  background-color: var(--sklearn-color-fitted-level-2);\n",
              "}\n",
              "\n",
              "/* Specification for estimator info (e.g. \"i\" and \"?\") */\n",
              "\n",
              "/* Common style for \"i\" and \"?\" */\n",
              "\n",
              ".sk-estimator-doc-link,\n",
              "a:link.sk-estimator-doc-link,\n",
              "a:visited.sk-estimator-doc-link {\n",
              "  float: right;\n",
              "  font-size: smaller;\n",
              "  line-height: 1em;\n",
              "  font-family: monospace;\n",
              "  background-color: var(--sklearn-color-background);\n",
              "  border-radius: 1em;\n",
              "  height: 1em;\n",
              "  width: 1em;\n",
              "  text-decoration: none !important;\n",
              "  margin-left: 0.5em;\n",
              "  text-align: center;\n",
              "  /* unfitted */\n",
              "  border: var(--sklearn-color-unfitted-level-1) 1pt solid;\n",
              "  color: var(--sklearn-color-unfitted-level-1);\n",
              "}\n",
              "\n",
              ".sk-estimator-doc-link.fitted,\n",
              "a:link.sk-estimator-doc-link.fitted,\n",
              "a:visited.sk-estimator-doc-link.fitted {\n",
              "  /* fitted */\n",
              "  border: var(--sklearn-color-fitted-level-1) 1pt solid;\n",
              "  color: var(--sklearn-color-fitted-level-1);\n",
              "}\n",
              "\n",
              "/* On hover */\n",
              "div.sk-estimator:hover .sk-estimator-doc-link:hover,\n",
              ".sk-estimator-doc-link:hover,\n",
              "div.sk-label-container:hover .sk-estimator-doc-link:hover,\n",
              ".sk-estimator-doc-link:hover {\n",
              "  /* unfitted */\n",
              "  background-color: var(--sklearn-color-unfitted-level-3);\n",
              "  color: var(--sklearn-color-background);\n",
              "  text-decoration: none;\n",
              "}\n",
              "\n",
              "div.sk-estimator.fitted:hover .sk-estimator-doc-link.fitted:hover,\n",
              ".sk-estimator-doc-link.fitted:hover,\n",
              "div.sk-label-container:hover .sk-estimator-doc-link.fitted:hover,\n",
              ".sk-estimator-doc-link.fitted:hover {\n",
              "  /* fitted */\n",
              "  background-color: var(--sklearn-color-fitted-level-3);\n",
              "  color: var(--sklearn-color-background);\n",
              "  text-decoration: none;\n",
              "}\n",
              "\n",
              "/* Span, style for the box shown on hovering the info icon */\n",
              ".sk-estimator-doc-link span {\n",
              "  display: none;\n",
              "  z-index: 9999;\n",
              "  position: relative;\n",
              "  font-weight: normal;\n",
              "  right: .2ex;\n",
              "  padding: .5ex;\n",
              "  margin: .5ex;\n",
              "  width: min-content;\n",
              "  min-width: 20ex;\n",
              "  max-width: 50ex;\n",
              "  color: var(--sklearn-color-text);\n",
              "  box-shadow: 2pt 2pt 4pt #999;\n",
              "  /* unfitted */\n",
              "  background: var(--sklearn-color-unfitted-level-0);\n",
              "  border: .5pt solid var(--sklearn-color-unfitted-level-3);\n",
              "}\n",
              "\n",
              ".sk-estimator-doc-link.fitted span {\n",
              "  /* fitted */\n",
              "  background: var(--sklearn-color-fitted-level-0);\n",
              "  border: var(--sklearn-color-fitted-level-3);\n",
              "}\n",
              "\n",
              ".sk-estimator-doc-link:hover span {\n",
              "  display: block;\n",
              "}\n",
              "\n",
              "/* \"?\"-specific style due to the `<a>` HTML tag */\n",
              "\n",
              "#sk-container-id-4 a.estimator_doc_link {\n",
              "  float: right;\n",
              "  font-size: 1rem;\n",
              "  line-height: 1em;\n",
              "  font-family: monospace;\n",
              "  background-color: var(--sklearn-color-background);\n",
              "  border-radius: 1rem;\n",
              "  height: 1rem;\n",
              "  width: 1rem;\n",
              "  text-decoration: none;\n",
              "  /* unfitted */\n",
              "  color: var(--sklearn-color-unfitted-level-1);\n",
              "  border: var(--sklearn-color-unfitted-level-1) 1pt solid;\n",
              "}\n",
              "\n",
              "#sk-container-id-4 a.estimator_doc_link.fitted {\n",
              "  /* fitted */\n",
              "  border: var(--sklearn-color-fitted-level-1) 1pt solid;\n",
              "  color: var(--sklearn-color-fitted-level-1);\n",
              "}\n",
              "\n",
              "/* On hover */\n",
              "#sk-container-id-4 a.estimator_doc_link:hover {\n",
              "  /* unfitted */\n",
              "  background-color: var(--sklearn-color-unfitted-level-3);\n",
              "  color: var(--sklearn-color-background);\n",
              "  text-decoration: none;\n",
              "}\n",
              "\n",
              "#sk-container-id-4 a.estimator_doc_link.fitted:hover {\n",
              "  /* fitted */\n",
              "  background-color: var(--sklearn-color-fitted-level-3);\n",
              "}\n",
              "</style><div id=\"sk-container-id-4\" class=\"sk-top-container\"><div class=\"sk-text-repr-fallback\"><pre>RandomForestClassifier(random_state=42)</pre><b>In a Jupyter environment, please rerun this cell to show the HTML representation or trust the notebook. <br />On GitHub, the HTML representation is unable to render, please try loading this page with nbviewer.org.</b></div><div class=\"sk-container\" hidden><div class=\"sk-item\"><div class=\"sk-estimator fitted sk-toggleable\"><input class=\"sk-toggleable__control sk-hidden--visually\" id=\"sk-estimator-id-4\" type=\"checkbox\" checked><label for=\"sk-estimator-id-4\" class=\"sk-toggleable__label fitted sk-toggleable__label-arrow\"><div><div>RandomForestClassifier</div></div><div><a class=\"sk-estimator-doc-link fitted\" rel=\"noreferrer\" target=\"_blank\" href=\"https://scikit-learn.org/1.6/modules/generated/sklearn.ensemble.RandomForestClassifier.html\">?<span>Documentation for RandomForestClassifier</span></a><span class=\"sk-estimator-doc-link fitted\">i<span>Fitted</span></span></div></label><div class=\"sk-toggleable__content fitted\"><pre>RandomForestClassifier(random_state=42)</pre></div> </div></div></div></div>"
            ],
            "text/plain": [
              "RandomForestClassifier(random_state=42)"
            ]
          },
          "execution_count": 223,
          "metadata": {},
          "output_type": "execute_result"
        }
      ],
      "source": [
        "random_forest_model"
      ]
    },
    {
      "cell_type": "code",
      "execution_count": null,
      "metadata": {
        "colab": {
          "base_uri": "https://localhost:8080/"
        },
        "id": "ivAjnjQfMwD3",
        "outputId": "90de3b1a-d650-495f-e2fe-f1d94a3f15bb"
      },
      "outputs": [
        {
          "name": "stderr",
          "output_type": "stream",
          "text": [
            "ERROR:Modelling:Error occurred while evaluating the model: 'NoneType' object has no attribute 'predict'\n",
            "ERROR:Modelling:Error occurred while evaluating the model: 'NoneType' object has no attribute 'predict'\n"
          ]
        },
        {
          "name": "stdout",
          "output_type": "stream",
          "text": [
            "Logistic Regression Evaluation:\n",
            "\n",
            "Random Forest Evaluation:\n"
          ]
        }
      ],
      "source": [
        "# Evaluate Logistic Regression\n",
        "print(\"Logistic Regression Evaluation:\")\n",
        "y_pred_logistic = modeling.evaluate_models(logistic_model, X_test, y_test)\n",
        "\n",
        "# Evaluate Random Forest\n",
        "print(\"\\nRandom Forest Evaluation:\")\n",
        "y_pred_rf = modeling.evaluate_models(random_forest_model, X_test, y_test)\n"
      ]
    },
    {
      "cell_type": "code",
      "execution_count": null,
      "metadata": {
        "colab": {
          "base_uri": "https://localhost:8080/",
          "height": 291
        },
        "id": "oicAYSHLUK3c",
        "outputId": "7be58ba8-ca2d-4e90-fca2-a58ee3f4cdaf"
      },
      "outputs": [
        {
          "name": "stdout",
          "output_type": "stream",
          "text": [
            "Label\n",
            "0    38267\n",
            "1    38262\n",
            "Name: count, dtype: int64\n"
          ]
        },
        {
          "ename": "NameError",
          "evalue": "name 'LogisticRegression' is not defined",
          "output_type": "error",
          "traceback": [
            "\u001b[0;31m---------------------------------------------------------------------------\u001b[0m",
            "\u001b[0;31mNameError\u001b[0m                                 Traceback (most recent call last)",
            "\u001b[0;32m<ipython-input-220-3f22c458988c>\u001b[0m in \u001b[0;36m<cell line: 0>\u001b[0;34m()\u001b[0m\n\u001b[1;32m     10\u001b[0m \u001b[0;34m\u001b[0m\u001b[0m\n\u001b[1;32m     11\u001b[0m \u001b[0;31m# Train the Logistic Regression model with balanced data\u001b[0m\u001b[0;34m\u001b[0m\u001b[0;34m\u001b[0m\u001b[0m\n\u001b[0;32m---> 12\u001b[0;31m \u001b[0mlogistic_model_smote\u001b[0m \u001b[0;34m=\u001b[0m \u001b[0mLogisticRegression\u001b[0m\u001b[0;34m(\u001b[0m\u001b[0mmax_iter\u001b[0m\u001b[0;34m=\u001b[0m\u001b[0;36m1000\u001b[0m\u001b[0;34m,\u001b[0m \u001b[0mrandom_state\u001b[0m\u001b[0;34m=\u001b[0m\u001b[0;36m42\u001b[0m\u001b[0;34m)\u001b[0m\u001b[0;34m\u001b[0m\u001b[0;34m\u001b[0m\u001b[0m\n\u001b[0m\u001b[1;32m     13\u001b[0m \u001b[0mlogistic_model_smote\u001b[0m\u001b[0;34m.\u001b[0m\u001b[0mfit\u001b[0m\u001b[0;34m(\u001b[0m\u001b[0mX_train_smote\u001b[0m\u001b[0;34m,\u001b[0m \u001b[0my_train_smote\u001b[0m\u001b[0;34m)\u001b[0m\u001b[0;34m\u001b[0m\u001b[0;34m\u001b[0m\u001b[0m\n\u001b[1;32m     14\u001b[0m \u001b[0;34m\u001b[0m\u001b[0m\n",
            "\u001b[0;31mNameError\u001b[0m: name 'LogisticRegression' is not defined"
          ]
        }
      ],
      "source": [
        "# Check the distribution of the target variable\n",
        "print(y_train.value_counts())\n",
        "\n",
        "# If there's an imbalance, consider techniques like class weighting, oversampling, or SMOTE\n",
        "from imblearn.over_sampling import SMOTE\n",
        "\n",
        "# Apply SMOTE to balance the classes\n",
        "smote = SMOTE(random_state=42)\n",
        "X_train_smote, y_train_smote = smote.fit_resample(X_train, y_train)\n",
        "\n",
        "# Train the Logistic Regression model with balanced data\n",
        "logistic_model_smote = LogisticRegression(max_iter=1000, random_state=42)\n",
        "logistic_model_smote.fit(X_train_smote, y_train_smote)\n",
        "\n",
        "# Evaluate the model with balanced data\n",
        "print(\"Logistic Regression with SMOTE Evaluation:\")\n",
        "y_pred_logistic_smote = modeling.evaluate_models(logistic_model_smote, X_test, y_test)\n"
      ]
    },
    {
      "cell_type": "code",
      "execution_count": null,
      "metadata": {
        "colab": {
          "base_uri": "https://localhost:8080/"
        },
        "id": "6EgV9iKVUaUy",
        "outputId": "98b41360-df11-4490-83b0-c1b80ef37b97"
      },
      "outputs": [
        {
          "name": "stdout",
          "output_type": "stream",
          "text": [
            "Random Forest Cross-Validation ROC-AUC Scores: [1. 1. 1. 1. 1.]\n",
            "Mean ROC-AUC: 1.0000\n"
          ]
        }
      ],
      "source": [
        "# Perform cross-validation to check for overfitting\n",
        "from sklearn.model_selection import cross_val_score\n",
        "\n",
        "cv_scores = cross_val_score(random_forest_model, X_train, y_train, cv=5, scoring='roc_auc')\n",
        "print(f\"Random Forest Cross-Validation ROC-AUC Scores: {cv_scores}\")\n",
        "print(f\"Mean ROC-AUC: {cv_scores.mean():.4f}\")\n"
      ]
    }
  ],
  "metadata": {
    "colab": {
      "provenance": []
    },
    "kaggle": {
      "accelerator": "none",
      "dataSources": [],
      "dockerImageVersionId": 30839,
      "isGpuEnabled": false,
      "isInternetEnabled": false,
      "language": "python",
      "sourceType": "notebook"
    },
    "kernelspec": {
      "display_name": "week-6",
      "language": "python",
      "name": "python3"
    },
    "language_info": {
      "codemirror_mode": {
        "name": "ipython",
        "version": 3
      },
      "file_extension": ".py",
      "mimetype": "text/x-python",
      "name": "python",
      "nbconvert_exporter": "python",
      "pygments_lexer": "ipython3",
      "version": "3.13.1"
    }
  },
  "nbformat": 4,
  "nbformat_minor": 0
}
