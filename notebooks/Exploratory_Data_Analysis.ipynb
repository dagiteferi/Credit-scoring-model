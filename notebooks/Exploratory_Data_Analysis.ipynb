{
 "cells": [
  {
   "cell_type": "markdown",
   "metadata": {},
   "source": [
    "Task 2: Exploratory Data Analysis (EDA)\n",
    "Overview of the Data:\n",
    "\n",
    "Understand the structure of the dataset, including the number of rows, columns, and data types.\n",
    "Summary Statistics:\n",
    "\n",
    "Understand the central tendency, dispersion, and shape of the dataset’s distribution.\n",
    "Distribution of Numerical Features:\n",
    "\n",
    "Visualize the distribution of numerical features to identify patterns, skewness, and potential outliers.\n",
    "Distribution of Categorical Features:\n",
    "\n",
    "Analyze the distribution of categorical features to gain insights into the frequency and variability of categories.\n",
    "Correlation Analysis:\n",
    "\n",
    "Understand the relationship between numerical features.\n",
    "Identifying Missing Values:\n",
    "\n",
    "Identify missing values to determine missing data and decide on appropriate imputation strategies.\n",
    "Outlier Detection:\n",
    "\n",
    "Use box plots to identify outliers."
   ]
  },
  {
   "cell_type": "code",
   "execution_count": 1,
   "metadata": {},
   "outputs": [
    {
     "name": "stdout",
     "output_type": "stream",
     "text": [
      "2025-03-07 16:32:25,666 - INFO - Directory already exists: c:\\Users\\HP\\Documents\\Dagii\\Credit-scoring-model\\data\n",
      "2025-03-07 16:32:25,668 - INFO - Directory already exists: c:\\Users\\HP\\Documents\\Dagii\\Credit-scoring-model\\src\\../logs\n"
     ]
    }
   ],
   "source": [
    "import os , sys\n",
    "sys.path.append(os.path.join(os.path.abspath('..')))\n",
    "# Import modules\n",
    "from src import data_loader as dl\n",
    "from scripts.Eda import data_overview, summary_statistics,identify_missing_values, distribution_of_numerical_features, correlation_analysis,distribution_of_categorical_features"
   ]
  },
  {
   "cell_type": "code",
   "execution_count": 2,
   "metadata": {},
   "outputs": [
    {
     "name": "stdout",
     "output_type": "stream",
     "text": [
      "2025-03-07 16:32:40,090 - INFO - Attempting to load data from: c:\\Users\\HP\\Documents\\Dagii\\Credit-scoring-model\\data\\data.csv\n",
      "2025-03-07 16:32:40,661 - INFO - Successfully loaded data from: c:\\Users\\HP\\Documents\\Dagii\\Credit-scoring-model\\data\\data.csv\n"
     ]
    }
   ],
   "source": [
    "#import data\n",
    "data = dl.load_data(\"data.csv\")"
   ]
  },
  {
   "cell_type": "code",
   "execution_count": 3,
   "metadata": {},
   "outputs": [
    {
     "name": "stdout",
     "output_type": "stream",
     "text": [
      "Number of rows and columns: (95662, 16)\n",
      "Column names and data types:\n",
      " TransactionId            object\n",
      "BatchId                  object\n",
      "AccountId                object\n",
      "SubscriptionId           object\n",
      "CustomerId               object\n",
      "CurrencyCode             object\n",
      "CountryCode               int64\n",
      "ProviderId               object\n",
      "ProductId                object\n",
      "ProductCategory          object\n",
      "ChannelId                object\n",
      "Amount                  float64\n",
      "Value                     int64\n",
      "TransactionStartTime     object\n",
      "PricingStrategy           int64\n",
      "FraudResult               int64\n",
      "dtype: object\n"
     ]
    }
   ],
   "source": [
    "data_overview(data)"
   ]
  },
  {
   "cell_type": "markdown",
   "metadata": {},
   "source": [
    "2. Summary Statistics"
   ]
  }
 ],
 "metadata": {
  "kernelspec": {
   "display_name": "week-6",
   "language": "python",
   "name": "python3"
  },
  "language_info": {
   "codemirror_mode": {
    "name": "ipython",
    "version": 3
   },
   "file_extension": ".py",
   "mimetype": "text/x-python",
   "name": "python",
   "nbconvert_exporter": "python",
   "pygments_lexer": "ipython3",
   "version": "3.11.9"
  }
 },
 "nbformat": 4,
 "nbformat_minor": 2
}
