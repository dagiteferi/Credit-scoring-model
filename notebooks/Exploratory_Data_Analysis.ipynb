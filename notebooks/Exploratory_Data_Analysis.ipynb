{
 "cells": [
  {
   "cell_type": "markdown",
   "metadata": {},
   "source": [
    "Task 2: Exploratory Data Analysis (EDA)\n",
    "Overview of the Data:\n",
    "\n",
    "Understand the structure of the dataset, including the number of rows, columns, and data types.\n",
    "Summary Statistics:\n",
    "\n",
    "Understand the central tendency, dispersion, and shape of the dataset’s distribution.\n",
    "Distribution of Numerical Features:\n",
    "\n",
    "Visualize the distribution of numerical features to identify patterns, skewness, and potential outliers.\n",
    "Distribution of Categorical Features:\n",
    "\n",
    "Analyze the distribution of categorical features to gain insights into the frequency and variability of categories.\n",
    "Correlation Analysis:\n",
    "\n",
    "Understand the relationship between numerical features.\n",
    "Identifying Missing Values:\n",
    "\n",
    "Identify missing values to determine missing data and decide on appropriate imputation strategies.\n",
    "Outlier Detection:\n",
    "\n",
    "Use box plots to identify outliers."
   ]
  },
  {
   "cell_type": "markdown",
   "metadata": {},
   "source": []
  }
 ],
 "metadata": {
  "kernelspec": {
   "display_name": "week-6",
   "language": "python",
   "name": "python3"
  },
  "language_info": {
   "codemirror_mode": {
    "name": "ipython",
    "version": 3
   },
   "file_extension": ".py",
   "mimetype": "text/x-python",
   "name": "python",
   "nbconvert_exporter": "python",
   "pygments_lexer": "ipython3",
   "version": "3.11.9"
  }
 },
 "nbformat": 4,
 "nbformat_minor": 2
}
