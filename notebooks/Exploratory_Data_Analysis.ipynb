{
 "cells": [
  {
   "cell_type": "markdown",
   "metadata": {},
   "source": [
    "### Task 2: Exploratory Data Analysis (EDA)\n",
    "\n",
    "1. **Overview of the Data:**\n",
    "   - Understand the structure of the dataset, including the number of rows, columns, and data types.\n",
    "\n",
    "2. **Summary Statistics:**\n",
    "   - Understand the central tendency, dispersion, and shape of the dataset’s distribution.\n",
    "\n",
    "3. **Distribution of Numerical Features:**\n",
    "   - Visualize the distribution of numerical features to identify patterns, skewness, and potential outliers.\n",
    "\n",
    "4. **Distribution of Categorical Features:**\n",
    "   - Analyze the distribution of categorical features to gain insights into the frequency and variability of categories.\n",
    "\n",
    "5. **Correlation Analysis:**\n",
    "   - Understand the relationship between numerical features.\n",
    "\n",
    "6. **Identifying Missing Values:**\n",
    "   - Identify missing values to determine missing data and decide on appropriate imputation strategies.\n",
    "\n",
    "7. **Outlier Detection:**\n",
    "   - Use box plots to identify outliers.\n"
   ]
  }
 ],
 "metadata": {
  "kernelspec": {
   "display_name": "week-6",
   "language": "python",
   "name": "python3"
  },
  "language_info": {
   "name": "python",
   "version": "3.13.1"
  }
 },
 "nbformat": 4,
 "nbformat_minor": 2
}
